{
  "nbformat": 4,
  "nbformat_minor": 0,
  "metadata": {
    "colab": {
      "provenance": [],
      "authorship_tag": "ABX9TyMuw8Td52KLT7qDtqj7KOu7",
      "include_colab_link": true
    },
    "kernelspec": {
      "name": "python3",
      "display_name": "Python 3"
    },
    "language_info": {
      "name": "python"
    }
  },
  "cells": [
    {
      "cell_type": "markdown",
      "metadata": {
        "id": "view-in-github",
        "colab_type": "text"
      },
      "source": [
        "<a href=\"https://colab.research.google.com/github/sbowma15/AdvancedFlexiMergsort/blob/main/AdvancedFlexiMergsort.ipynb\" target=\"_parent\"><img src=\"https://colab.research.google.com/assets/colab-badge.svg\" alt=\"Open In Colab\"/></a>"
      ]
    },
    {
      "cell_type": "code",
      "execution_count": null,
      "metadata": {
        "id": "qgmyavCokdP6"
      },
      "outputs": [],
      "source": [
        "def mergeSort(list_of_items, split_by_k=2):\n",
        "    \"\"\"Implementation of merge sort\"\"\"\n",
        "    start_time = time.time()\n",
        "\n",
        "    if len(list_of_items) <= 1:\n",
        "        return list_of_items\n",
        "\n",
        "    if split_by_k == 2:\n",
        "        middle = len(list_of_items) // 2\n",
        "        left_list = list_of_items[:middle]\n",
        "        right_list = list_of_items[middle:]\n",
        "        left_list, _ = mergeSort(left_list, split_by_k=split_by_k)\n",
        "        right_list, _ = mergeSort(right_list, split_by_k=split_by_k)\n",
        "        list_of_items = merge(left_list, right_list)\n",
        "    elif split_by_k == 3:  # Use \"elif\" instead of \"else if\"\n",
        "        sub_lists = [list_of_items[i:i+split_by_k] for i in range(0, len(list_of_items), split_by_k)]\n",
        "        sorted_lists = [mergeSort(sub_list, split_by_k=split_by_k) for sub_list in sub_lists]\n",
        "        while len(sorted_lists) > 1:\n",
        "            first_list = sorted_lists.pop(0)\n",
        "            second_list = sorted_lists.pop(0)\n",
        "            sorted_lists.append(merge(first_list, second_list))\n",
        "        list_of_items = sorted_lists[0]\n",
        "\n",
        "    elapsed_time = time.time() - start_time\n",
        "    return (list_of_items, elapsed_time)\n",
        "\n",
        "\n",
        "def merge(left_list, right_list):\n",
        "    \"\"\"Implementation of merge\"\"\"\n",
        "    merged_list = []\n",
        "    left_index = right_index = 0\n",
        "\n",
        "    while left_index < len(left_list) and right_index < len(right_list):\n",
        "        if left_list[left_index] < right_list[right_index]:\n",
        "            merged_list.append(left_list[left_index])\n",
        "            left_index += 1\n",
        "        else:\n",
        "            merged_list.append(right_list[right_index])\n",
        "            right_index += 1\n",
        "\n",
        "    merged_list += left_list[left_index:]\n",
        "    merged_list += right_list[right_index:]\n",
        "\n",
        "    return merged_list\n"
      ]
    }
  ]
}